{
 "cells": [
  {
   "cell_type": "markdown",
   "metadata": {},
   "source": [
    "# The features and shortcomings of Bayesian Networks (with CausalNex)\n",
    "\n",
    "Bayesian Networks and structural causal models are really exciting. These methods invite us to *think hard* about our business problem and our assumptions. Causal graphs make it easy for everyone (not just data scientists) reason about and criticize the model. This level of explainability and rigor are in a stark contrast with the black box fit / predict logic that is very much present in the data science industry.\n",
    "\n",
    "However, the widespread adoption of these models in industry still has yet to happen, at least from my personal standpoint. Given the growing interest of the community and new tools backed by big industry names (such as [CausalNex](https://causalnex.readthedocs.io/en/latest/) by McKinsey / QuantumBlack), I thought it would be cool to try them out and check out features and shortcomings from an industry practitioner standpoint.\n",
    "\n",
    "So, in this post, I'll report my first try working with Bayesian Networks, more specifically using the CausalNex library. We'll try to solve a [synthetic causal inference problem](https://fklearn.readthedocs.io/en/latest/examples/causal_inference.html) from Nubank's fklearn library (the same that I've already used in several other [posts](https://gdmarmerola.github.io/diagnosting-validity-causal-effects-trees/)). Having a synthetic dataset gives us the benefit of knowing the true treatment effect and counterfactuals, providing objective evidence on the performance of the algorithm, even if it does not carry the weight of a thorough benchmark. \n",
    "\n",
    "Throughout the post, I'll try to point out the **features** and **shortcomings** of our Bayesian Networks / Causal Nex approach. Without further ado, let's dive in!"
   ]
  },
  {
   "cell_type": "markdown",
   "metadata": {},
   "source": [
    "##### *General imports*"
   ]
  },
  {
   "cell_type": "code",
   "execution_count": 1,
   "metadata": {},
   "outputs": [],
   "source": [
    "# changing working directory\n",
    "import sys\n",
    "sys.path.append(\"../\")\n",
    "%matplotlib inline\n",
    "\n",
    "# better plots\n",
    "import matplotlib.pyplot as plt\n",
    "from IPython.display import set_matplotlib_formats\n",
    "set_matplotlib_formats('retina')\n",
    "plt.style.use('bmh')\n",
    "\n",
    "# suppress annoying causal nex warnings\n",
    "import warnings\n",
    "warnings.filterwarnings(\"ignore\")"
   ]
  },
  {
   "cell_type": "markdown",
   "metadata": {},
   "source": [
    "##### *For converting tables to markdown*"
   ]
  },
  {
   "cell_type": "code",
   "execution_count": 2,
   "metadata": {},
   "outputs": [],
   "source": [
    "def df_to_markdown(df, float_format='%.2g'):\n",
    "    \"\"\"\n",
    "    Export a pandas.DataFrame to markdown-formatted text.\n",
    "    DataFrame should not contain any `|` characters.\n",
    "    \"\"\"\n",
    "    from os import linesep\n",
    "    return linesep.join([\n",
    "        '|'.join(df.columns),\n",
    "        '|'.join(4 * '-' for i in df.columns),\n",
    "        df.to_csv(sep='|', index=False, header=False, float_format=float_format)\n",
    "    ]).replace('|', ' | ')"
   ]
  },
  {
   "cell_type": "markdown",
   "metadata": {},
   "source": [
    "##### *For plotting structural models*"
   ]
  },
  {
   "cell_type": "code",
   "execution_count": 3,
   "metadata": {},
   "outputs": [],
   "source": [
    "import networkx as nx\n",
    "\n",
    "def plot_structure(g):\n",
    "    \n",
    "    color_mapping = {\n",
    "        'sex': 'black',\n",
    "        'age': 'black',\n",
    "        'severity': 'black',\n",
    "        'medication': 'royalblue',\n",
    "        'recovery': 'firebrick'\n",
    "    }\n",
    "    \n",
    "    fig = plt.figure(figsize=(18, 10)) \n",
    "    ax = fig.add_subplot(1, 1, 1)\n",
    "    ax.axis('off')\n",
    "    \n",
    "    pos = {\n",
    "        'age': [0.20,0.60],\n",
    "        'severity': [0.30,0.60],\n",
    "        'sex': [0.40,0.60],\n",
    "        'medication': [0.45, 0.45],\n",
    "        'recovery': [0.35, 0.30],\n",
    "    }\n",
    "\n",
    "    # add nodes to figure\n",
    "    nx.draw_networkx_nodes(\n",
    "        g,\n",
    "        pos,\n",
    "        node_shape='8',\n",
    "        node_size=8000,\n",
    "        linewidths=3,\n",
    "        edgecolors=\"black\",\n",
    "        node_color=[color_mapping[e] for e in g.nodes],\n",
    "    )\n",
    "    \n",
    "    nx.draw_networkx_labels(\n",
    "        g,\n",
    "        pos,\n",
    "        font_color=\"white\",\n",
    "        font_weight=\"bold\",\n",
    "        font_family=\"Monospace\",\n",
    "        font_size=12,\n",
    "    )\n",
    "    \n",
    "    nx.draw_networkx_edges(\n",
    "        g,\n",
    "        pos,\n",
    "        edge_color=\"black\",\n",
    "        style='dashed',\n",
    "        arrowsize=30,\n",
    "        node_size=8000\n",
    "    )"
   ]
  },
  {
   "cell_type": "markdown",
   "metadata": {},
   "source": [
    "##### *`make_confounded_data` function*"
   ]
  },
  {
   "cell_type": "code",
   "execution_count": 4,
   "metadata": {},
   "outputs": [],
   "source": [
    "import numpy as np\n",
    "from numpy import nan\n",
    "import pandas as pd\n",
    "\n",
    "# REPRODUCING make_confounded_data FUNCTION FROM\n",
    "# FKLEARN FOR SYMPLICITY, AS FKLEARN HAS STRICT REQUIREMENTS\n",
    "# FOR SKLEARN, PANDAS AND NUMPY AND WE WANTED TO DECOUPLE FROM IT\n",
    "# WE'RE NOT CREDIBLE FOR THIS CODE\n",
    "# LINK: https://github.com/nubank/fklearn/blob/master/src/fklearn/data/datasets.py\n",
    "\n",
    "def make_confounded_data(n):\n",
    "    \"\"\"\n",
    "    Generates fake data for counterfactual experimentation. The covariants are\n",
    "    sex, age and severity, the treatment is a binary variable, medication and the response\n",
    "    days until recovery.\n",
    "    Parameters\n",
    "    ----------\n",
    "    n : int\n",
    "        The number of samples to generate\n",
    "    Returns\n",
    "    ----------\n",
    "    df_rnd : pd.DataFrame\n",
    "        A dataframe where the treatment is randomly assigned.\n",
    "    df_obs : pd.DataFrame\n",
    "        A dataframe with confounding.\n",
    "    df_df : pd.DataFrame\n",
    "        A counter factual dataframe with confounding. Same as df_obs, but\n",
    "        with the treatment flipped.\n",
    "    \"\"\"\n",
    "\n",
    "    def get_severity(df):\n",
    "        return ((np.random.beta(1, 3, size=df.shape[0]) * (df[\"age\"] < 30))\n",
    "                + (np.random.beta(3, 1.5, size=df.shape[0]) * (df[\"age\"] >= 30)))\n",
    "\n",
    "    def get_treatment(df):\n",
    "        return (.33 * df[\"sex\"]\n",
    "                + 1.5 * df[\"severity\"]\n",
    "                + 0.15 * np.random.normal(size=df.shape[0]) > 0.8).astype(float)\n",
    "\n",
    "    def get_recovery(df):\n",
    "        return np.random.poisson(np.exp(2\n",
    "                                        + 0.5 * df[\"sex\"]\n",
    "                                        + 0.03 * df[\"age\"]\n",
    "                                        + df[\"severity\"]\n",
    "                                        - df[\"medication\"]))\n",
    "\n",
    "    np.random.seed(1111)\n",
    "    sexes = np.random.randint(0, 2, size=n)\n",
    "    ages = np.random.gamma(8, scale=4, size=n)\n",
    "    meds = np.random.randint(0, 2, size=n)\n",
    "\n",
    "    # random data\n",
    "    df_rnd = pd.DataFrame(dict(sex=sexes, age=ages, medication=meds))\n",
    "    df_rnd['severity'] = get_severity(df_rnd)\n",
    "    df_rnd['recovery'] = get_recovery(df_rnd)\n",
    "\n",
    "    features = ['sex', 'age', 'severity', 'medication', 'recovery']\n",
    "    df_rnd = df_rnd[features]  # to enforce column order\n",
    "\n",
    "    # obs data\n",
    "    df_obs = df_rnd.copy()\n",
    "    df_obs['medication'] = get_treatment(df_obs)\n",
    "    df_obs['recovery'] = get_recovery(df_obs)\n",
    "\n",
    "    # counter_factual data\n",
    "    df_ctf = df_obs.copy()\n",
    "    df_ctf['medication'] = ((df_ctf['medication'] == 1) ^ 1).astype(float)\n",
    "    df_ctf['recovery'] = get_recovery(df_ctf)\n",
    "\n",
    "    return df_rnd, df_obs, df_ctf"
   ]
  },
  {
   "cell_type": "markdown",
   "metadata": {},
   "source": [
    "## Data: `make_confounded_data` from `fklearn`\n",
    "\n",
    "Nubank's `fklearn` module provides a nice synthetic causal inference problem generator, so we're going to use the same data generating process and example from its [documentation](https://fklearn.readthedocs.io/en/latest/examples/causal_inference.html). "
   ]
  },
  {
   "cell_type": "code",
   "execution_count": 5,
   "metadata": {},
   "outputs": [
    {
     "data": {
      "text/html": [
       "<div>\n",
       "<style scoped>\n",
       "    .dataframe tbody tr th:only-of-type {\n",
       "        vertical-align: middle;\n",
       "    }\n",
       "\n",
       "    .dataframe tbody tr th {\n",
       "        vertical-align: top;\n",
       "    }\n",
       "\n",
       "    .dataframe thead th {\n",
       "        text-align: right;\n",
       "    }\n",
       "</style>\n",
       "<table border=\"1\" class=\"dataframe\">\n",
       "  <thead>\n",
       "    <tr style=\"text-align: right;\">\n",
       "      <th></th>\n",
       "      <th>sex</th>\n",
       "      <th>age</th>\n",
       "      <th>severity</th>\n",
       "      <th>medication</th>\n",
       "      <th>recovery</th>\n",
       "    </tr>\n",
       "  </thead>\n",
       "  <tbody>\n",
       "    <tr>\n",
       "      <th>0</th>\n",
       "      <td>0</td>\n",
       "      <td>16.354103</td>\n",
       "      <td>0.047350</td>\n",
       "      <td>0.0</td>\n",
       "      <td>14</td>\n",
       "    </tr>\n",
       "    <tr>\n",
       "      <th>1</th>\n",
       "      <td>1</td>\n",
       "      <td>24.182983</td>\n",
       "      <td>0.099184</td>\n",
       "      <td>0.0</td>\n",
       "      <td>27</td>\n",
       "    </tr>\n",
       "    <tr>\n",
       "      <th>2</th>\n",
       "      <td>1</td>\n",
       "      <td>25.483159</td>\n",
       "      <td>0.349073</td>\n",
       "      <td>1.0</td>\n",
       "      <td>14</td>\n",
       "    </tr>\n",
       "    <tr>\n",
       "      <th>3</th>\n",
       "      <td>1</td>\n",
       "      <td>52.195765</td>\n",
       "      <td>0.536694</td>\n",
       "      <td>1.0</td>\n",
       "      <td>26</td>\n",
       "    </tr>\n",
       "    <tr>\n",
       "      <th>4</th>\n",
       "      <td>0</td>\n",
       "      <td>48.816918</td>\n",
       "      <td>0.631806</td>\n",
       "      <td>1.0</td>\n",
       "      <td>28</td>\n",
       "    </tr>\n",
       "  </tbody>\n",
       "</table>\n",
       "</div>"
      ],
      "text/plain": [
       "   sex        age  severity  medication  recovery\n",
       "0    0  16.354103  0.047350         0.0        14\n",
       "1    1  24.182983  0.099184         0.0        27\n",
       "2    1  25.483159  0.349073         1.0        14\n",
       "3    1  52.195765  0.536694         1.0        26\n",
       "4    0  48.816918  0.631806         1.0        28"
      ]
     },
     "execution_count": 5,
     "metadata": {},
     "output_type": "execute_result"
    }
   ],
   "source": [
    "# generating \n",
    "df_rnd, df_obs, df_cf = make_confounded_data(50000)\n",
    "df_obs.head(5)"
   ]
  },
  {
   "cell_type": "markdown",
   "metadata": {},
   "source": [
    "We have five features: `sex`, `age`, `severity`, `medication` and `recovery`. We want to estimate the impact of `medication` on `recovery`. So, our *target* variable is `recovery`, our *treatment* variable is `medication` and the rest are our *explanatory* variables.\n",
    "\n",
    "A good counterfactual model will tell us how would be the recovery time for each individual for both potential decisions of taking or not taking medication. The model should be robust to confounders, variables that affect the probability of someone taking the medication. For instance, people with higher `severity` may be more likely to take the medicine. If not properly taken into account, this confounder may lead us to conclude that the medication may make recovery worse: people that took the medication may have recovered more slowly (effectively ignoring that their condition was also more severe in the first place). In the [fklearn's documentation](https://fklearn.readthedocs.io/en/latest/examples/causal_inference.html), the data generating process is shown in detail, highlighting the confounders in the data. The effect we're looking for is \n",
    "\n",
    "$$\\frac{E[recovery \\vert medication = 1]}{E[recovery \\vert medication = 0]} = exp(-1) = 0.368$$.\n",
    "\n",
    "The `make_confounded_data` function outputs three data frames: `df_rnd`, where treatment assingment is random, `df_obs`, where treatment assingment is confounded and `df_cf`, which is the counterfactual dataframe, containing the counterfactual outcome for all the individuals."
   ]
  },
  {
   "cell_type": "markdown",
   "metadata": {},
   "source": [
    "## 1. Structure\n",
    "\n",
    "We can divide our causal inference problem in two steps:\n",
    "\n",
    "1. Define (or learn) the *structure* of the problem. The structure determines which variables are causes of others and is represented by a causal diagram: a directed acyclic graph representing these relationships\n",
    "2. Given a structure and data, compute the counterfactual (treatment effect) of taking the medication vs. not taking it.\n",
    "\n",
    "Let us start with step (1)."
   ]
  },
  {
   "cell_type": "markdown",
   "metadata": {},
   "source": [
    "### True (Oracle) Structure\n",
    "\n",
    "As we're dealing with a simulated dataset, we have the luxury if knowing the true structure of the problem. It is very easy to define this through the CausalNex `StructureModel` API:"
   ]
  },
  {
   "cell_type": "code",
   "execution_count": 7,
   "metadata": {},
   "outputs": [
    {
     "data": {
      "image/png": "[encoded data removed]",
      "text/plain": [
       "<Figure size 1296x720 with 1 Axes>"
      ]
     },
     "metadata": {
      "image/png": {
       "height": 558,
       "width": 1018
      }
     },
     "output_type": "display_data"
    }
   ],
   "source": [
    "from causalnex.structure import StructureModel\n",
    "sm_true = StructureModel()\n",
    "\n",
    "sm_true.add_edges_from([\n",
    "    ('age', 'severity'),\n",
    "    ('sex', 'medication'),\n",
    "    ('severity', 'medication'),\n",
    "    ('medication', 'recovery'),\n",
    "    ('sex', 'recovery'),\n",
    "    ('age', 'recovery'),\n",
    "    ('severity', 'recovery'),\n",
    "])\n",
    "\n",
    "plot_structure(sm_true)"
   ]
  },
  {
   "cell_type": "markdown",
   "metadata": {},
   "source": [
    "If you're still confused about structural causal models now things may get clearer. The arrow sets the direction of causality, such that `a -> b` means that `a` *causes* `b`. So in our case `recovery` (our target, in red) is caused by all variables. The treatment variable, `medication`, is caused by `sex` and `severity`, and `severity` is caused by `age`. \n",
    "\n",
    "Remeber that this is a simulated dataset. We know the true diagram because we created it and defined that data generating process (in detail [here](https://fklearn.readthedocs.io/en/latest/examples/causal_inference.html)). In an industry application, we would never be sure of the diagram and would count on domain experts to try to make it reproduce reality as much as we can.\n",
    "\n",
    "In any case, having the possibility of reasoning about the structure of the problem is clearly a **feature** to the practitioner!"
   ]
  },
  {
   "cell_type": "markdown",
   "metadata": {},
   "source": [
    "### Trying to learn structure from data\n",
    "\n",
    "CausalNex provides the ability to infer the structure from data, through the NOTEARS algorithm. The algorithm receives our data and a threshold to remove weak edges. "
   ]
  },
  {
   "cell_type": "code",
   "execution_count": null,
   "metadata": {},
   "outputs": [],
   "source": [
    "from causalnex.structure.notears import from_pandas\n",
    "\n",
    "sm_learned = from_pandas(df_rnd)\n",
    "sm_learned.remove_edges_below_threshold(0.5)\n",
    "\n",
    "plot_structure(sm_learned)"
   ]
  },
  {
   "cell_type": "markdown",
   "metadata": {},
   "source": [
    "Not bad, as the algorithm found that recovery depends on all variables. However, other edges seem awkward, specially `medication` being a cause of `age`. Nevertheless, structure leanring is recognized to be a very hard problem, and in most cases a domain expert will step in and make corrections to the relationships. It is a potentially very useful **feature** for exploring the data.\n",
    "\n",
    "For the sake of fun and benchmarking, we'll store this structure so we can test it down the road."
   ]
  },
  {
   "cell_type": "markdown",
   "metadata": {},
   "source": [
    "### Naive structure\n",
    "\n",
    "Another way to try to define structure is to use the design pattern of `X` (features), `W` (treatment) and `y` (target). An example is the [Genearlized Random Forest](https://github.com/grf-labs/grf) method by Athey et. al. We assume the causal graph where `X -> W -> y` and `X -> y`. Each feature is assumed to be a potential cause of the target variable and the treatment variable as well."
   ]
  },
  {
   "cell_type": "code",
   "execution_count": null,
   "metadata": {},
   "outputs": [],
   "source": [
    "from causalnex.structure import StructureModel\n",
    "sm_naive = StructureModel()\n",
    "\n",
    "sm_naive.add_edges_from([\n",
    "    ('medication', 'recovery'),\n",
    "    ('sex', 'recovery'),\n",
    "    ('age', 'recovery'),\n",
    "    ('severity', 'recovery'),\n",
    "    ('sex', 'medication'),\n",
    "    ('age', 'medication'),\n",
    "    ('severity', 'medication'),\n",
    "])\n",
    "\n",
    "plot_structure(sm_naive)"
   ]
  },
  {
   "cell_type": "markdown",
   "metadata": {},
   "source": [
    "Cool. We're off to a good start. We have three structures to test and perform inference on. Moving on to step (2)!"
   ]
  },
  {
   "cell_type": "markdown",
   "metadata": {},
   "source": [
    "## 2. Inference\n",
    "\n",
    "We divide Inference in three substeps:\n",
    "\n",
    "* Dataprep: we need to discretize our data so the Bayesian Network can perform computations. How we perform discretization makes a lot of difference, as we'll see further\n",
    "\n",
    "* Fit and evaluation: we fit the network to data (which amounts to computing tables of probabilities) and evaluate it on a test set\n",
    "\n",
    "* Counterfactuals: we use the network to perform queries and predictions and use them to compute counterfactuals\n",
    "\n",
    "We will walk through a single run with the true causal structure. Then, we'll devise a procedure to test other structures and hyperparameters. Finally, we'll analyze results."
   ]
  },
  {
   "cell_type": "markdown",
   "metadata": {},
   "source": [
    "### Dataprep\n",
    "\n",
    "Bayesian Networks in general require that we discretize variables prior to fitting them to data. This can either be a shortcomig or a feature: it may make results more interpretable by business stakeholders. However, it introduces an arbritrary choice that has a high impact on results that may hard to rationalize. Personally, I think the scale is tipped to this being a **shortcoming**, as I think the interpretability gains do not outweigh the introduction of a arbitrary choice.\n",
    "\n",
    "For simplicity, we perforrm quantile-based discretization, where all the features are discretized to `n_bins` bins. We also perform transform binary variables into strings, log1p-transform the target variable, and split data into `train` and `test` sets.\n",
    "\n",
    "We perform special treatment on the target variable such as the the discretized labels represent the expected value of the bins, so we preserve expected values and can correctly compute treatment effects further on. \n",
    "\n",
    "We start on the \"easy mode\" with `df_rnd`, where we do not have confounding."
   ]
  },
  {
   "cell_type": "code",
   "execution_count": null,
   "metadata": {},
   "outputs": [],
   "source": [
    "import numpy as np\n",
    "import pandas as pd\n",
    "\n",
    "def discretize(df, n_bins=8):\n",
    "    \n",
    "    target = df['recovery']\n",
    "    continuous = df[['age', 'severity']]\n",
    "    binary = df[['medication', 'sex']]\n",
    "    \n",
    "    target = (\n",
    "        target\n",
    "        .to_frame()\n",
    "        .assign(recovery_bin = lambda x: pd.qcut(x['recovery'], n_bins, duplicates='drop'))\n",
    "        .groupby('recovery_bin').transform(lambda x: x.mean())\n",
    "        .apply(np.log1p)\n",
    "    \n",
    "    )\n",
    "    \n",
    "    continuous = (\n",
    "        continuous\n",
    "        .apply(lambda x: pd.qcut(x, n_bins, duplicates='drop'))\n",
    "        .apply(lambda x: [e.mid for e in x])\n",
    "    )\n",
    "    \n",
    "    binary = binary.astype(int)\n",
    "    binary['sex'] = binary['sex'].replace({1:'female', 0:'male'})\n",
    "    binary['medication'] = binary['medication'].replace({1:'yes', 0:'no'})\n",
    "    \n",
    "    return pd.concat([continuous, binary, target], axis=1)\n",
    "\n",
    "df_disc = discretize(df_rnd)"
   ]
  },
  {
   "cell_type": "code",
   "execution_count": null,
   "metadata": {},
   "outputs": [],
   "source": [
    "from sklearn.model_selection import train_test_split\n",
    "\n",
    "train, test = train_test_split(df_disc, train_size=0.8, random_state=42)"
   ]
  },
  {
   "cell_type": "markdown",
   "metadata": {},
   "source": [
    "### Fitting and evaluating the Bayesian Network\n",
    "\n",
    "We then proceed to fit a Bayesian Network to our processed data. `.fit_node_states(...)` acts like a dictionary / schema, saving the possible states of the network. Then, `.fit_cpds(...)` computes conditional probabilities. Now we transformed our structure into a generative model that can answer probabilistic queries."
   ]
  },
  {
   "cell_type": "code",
   "execution_count": null,
   "metadata": {},
   "outputs": [],
   "source": [
    "from causalnex.network import BayesianNetwork\n",
    "\n",
    "bn_true = BayesianNetwork(sm_true)\n",
    "\n",
    "bn_true = bn_true.fit_node_states(df_disc)\n",
    "bn_true = bn_true.fit_cpds(train, method=\"BayesianEstimator\", bayes_prior=\"K2\")"
   ]
  },
  {
   "cell_type": "markdown",
   "metadata": {},
   "source": [
    "The first query we do is to run our test  set thorugh the net and see if it can recover the true states of the target variable. This is actually a multi-class classification problem as we discretized our variables, so we use the micro-average ROC AUC."
   ]
  },
  {
   "cell_type": "code",
   "execution_count": null,
   "metadata": {},
   "outputs": [],
   "source": [
    "from causalnex.evaluation import roc_auc\n",
    "roc, auc = roc_auc(bn_true, test, \"recovery\")\n",
    "print(auc)"
   ]
  },
  {
   "cell_type": "markdown",
   "metadata": {},
   "source": [
    "This is actually a high AUC! The network did a good job computing de conditional probability distributions of the data. For instance, we can check that the probability of taking medication remains constant after conditioning on `severity` and `sex`, which is expected as we're using `df_rnd`. That kind of interpretability is clearly a **feature**."
   ]
  },
  {
   "cell_type": "code",
   "execution_count": null,
   "metadata": {},
   "outputs": [],
   "source": [
    "bn_true.cpds['medication']"
   ]
  },
  {
   "cell_type": "markdown",
   "metadata": {},
   "source": [
    "Let us now move to computing counterfactuals!"
   ]
  },
  {
   "cell_type": "markdown",
   "metadata": {},
   "source": [
    "### Computing counterfactuals\n",
    "\n",
    "As the network can act as a generative model, we can compute probabilistic queries on it. Furthermore, being a structural causal model, the net can also perform do-calulus $P(y \\vert do(X))$ and compute counterfactuals. Specifically, we're interested in\n",
    "\n",
    "$$T = \\frac{P(recovery \\vert do(medication = 1))}{P(recovery \\vert do(medication = 0))}$$\n",
    "\n",
    "where the expected value of $T$ is $exp(-1) = 0.368$. "
   ]
  },
  {
   "cell_type": "markdown",
   "metadata": {},
   "source": [
    "We start by using the `InferenceEngine` class, which exposes the `.do_intervention(...)` method, allowing us to perform do calculus. The following function returns the distribution of `recovery` given no treatment (`0`) and treatment (`1`). It is fairly easy and elegant to use and a good **feature** to have."
   ]
  },
  {
   "cell_type": "code",
   "execution_count": null,
   "metadata": {},
   "outputs": [],
   "source": [
    "from causalnex.inference import InferenceEngine\n",
    "\n",
    "def compute_medication_cf(bn):\n",
    "\n",
    "    ie = InferenceEngine(bn)\n",
    "\n",
    "    ie.do_intervention(\"medication\", {'yes': 0.0, 'no': 1.0})\n",
    "    recovery_no = pd.Series(ie.query()[\"recovery\"])\n",
    "\n",
    "    ie.do_intervention(\"medication\", {'yes': 1.0, 'no': 0.0})\n",
    "    recovery_yes = pd.Series(ie.query()[\"recovery\"])\n",
    "\n",
    "    cf = pd.concat([recovery_no, recovery_yes], axis=1)\n",
    "    cf.index = np.expm1(cf.index)\n",
    "    \n",
    "    return cf\n",
    "\n",
    "counterfactuals = compute_medication_cf(bn_true)\n",
    "counterfactuals"
   ]
  },
  {
   "cell_type": "markdown",
   "metadata": {},
   "source": [
    "We can plot the distribution to check how the `medication` impacts `recovery`:"
   ]
  },
  {
   "cell_type": "code",
   "execution_count": null,
   "metadata": {},
   "outputs": [],
   "source": [
    "def plot_counterfactuals(cf):\n",
    "\n",
    "    plt.figure(figsize=(12, 5), dpi=120)\n",
    "\n",
    "    plt.plot(cf.index, cf[0], 'o--', label='medication = no')\n",
    "    plt.fill_between(cf.index, cf[0], alpha=0.1)\n",
    "\n",
    "    plt.plot(cf.index, cf[1], 'o--', label='medication = yes')\n",
    "    plt.fill_between(cf.index, cf[1], alpha=0.1)\n",
    "\n",
    "    plt.legend()\n",
    "    plt.title('Distribution of recovery given medication')\n",
    "    plt.xlabel('recovery');\n",
    "    plt.ylabel('Probability');\n",
    "    \n",
    "plot_counterfactuals(counterfactuals)"
   ]
  },
  {
   "cell_type": "markdown",
   "metadata": {},
   "source": [
    "We can clearly see that the distribution of recovery times for `medication = yes` is fairly skewed to the left as compared to `medication = no`, which shows an opposite pattern, indicating that medication provides an improvement. \n",
    "\n",
    "Then, we compute the effects by calculating the expected `recovery` value given treatment and no treatment. This is easy as we're assured that `recovery` labels reflect the bins expected values and we're with a multinomial distribution."
   ]
  },
  {
   "cell_type": "code",
   "execution_count": null,
   "metadata": {},
   "outputs": [],
   "source": [
    "def compute_effect(cf):\n",
    "\n",
    "    expected_no = (cf.index * cf[0]).sum()\n",
    "    expected_yes = (cf.index * cf[1]).sum()\n",
    "    \n",
    "    effect = expected_yes/expected_no\n",
    "    \n",
    "    return effect\n",
    "\n",
    "effect = compute_effect(counterfactuals)\n",
    "print(f'The effect computed is {effect:.4f} / {np.log(effect):.2f} (log)')"
   ]
  },
  {
   "cell_type": "markdown",
   "metadata": {},
   "source": [
    "And we're off to a reasonable start! The net recovered an effect of `0.3975` or `-0.92` in log space, which is close to the expected `0.368` and `-1` true values. The ease of use and the fact that the net recovered the true effect counts as a **feature**. \n",
    "\n",
    "However, there's an important **shortcoming**: the net does not provide confidence intervals, which implies that we will not have them as well for the final counterfactual. A Boostrap procedure could solve this, but it comes with the additional caveat of repeating the computationally expensive processes of training and executing do-calculus for several nets."
   ]
  },
  {
   "cell_type": "markdown",
   "metadata": {},
   "source": [
    "### Impact of confounding\n",
    "\n",
    "Let us now try to solve `df_obs`, which has a high degree of confounding. For simplicity, let us abstract all steps into the `run_full_bayes_net_test` function:"
   ]
  },
  {
   "cell_type": "code",
   "execution_count": null,
   "metadata": {},
   "outputs": [],
   "source": [
    "def run_full_bayes_net_test(df, structure, n_bins, verbose=1):\n",
    "        \n",
    "    ## preparing data ##\n",
    "    \n",
    "    df_disc = discretize(df, n_bins)\n",
    "    train, test = train_test_split(df_disc, train_size=0.8, random_state=42)\n",
    "    \n",
    "    ## setting up network and inference engine ##\n",
    "    \n",
    "    bn = BayesianNetwork(structure)\n",
    "    \n",
    "    ## fitting and evaluating network ##\n",
    "    \n",
    "    bn = bn.fit_node_states(df_disc)\n",
    "    bn = bn.fit_cpds(train, method=\"BayesianEstimator\", bayes_prior=\"K2\")\n",
    "    \n",
    "    roc, auc = roc_auc(bn, test, \"recovery\")\n",
    "    \n",
    "    ## running counterfactuals via inference engine ##\n",
    "    \n",
    "    counterfactuals = compute_medication_cf(bn)\n",
    "    effect = compute_effect(counterfactuals)\n",
    "    \n",
    "    if verbose > 0:\n",
    "        plot_counterfactuals(counterfactuals)\n",
    "        print(f'The effect computed is {effect:.4f} / {np.log(effect):.2f} (log)')    \n",
    "    \n",
    "    return {\n",
    "        'auc': auc,\n",
    "        'effect': effect,\n",
    "    }"
   ]
  },
  {
   "cell_type": "markdown",
   "metadata": {},
   "source": [
    "Now we can run our test with any dataframe, structure and number of bins. Let us check out what happens if we run the net just like before but using the confounded `df_obs` dataset:"
   ]
  },
  {
   "cell_type": "code",
   "execution_count": null,
   "metadata": {},
   "outputs": [],
   "source": [
    "run_full_bayes_net_test(df_obs, sm_true, 8)"
   ]
  },
  {
   "cell_type": "markdown",
   "metadata": {},
   "source": [
    "Actually, in this case, confounding damaged the counterfactual estimate of the network, which underestimated the effect by a large margin (`0.7656 ` vs. `0.368`/ `-0.27` vs. `-1.0`), despite still getting the direction right (medication improves recovery). What did go wrong? I actually expected that the Bayesian Network would perform well on the confounded case, and would count this as a major **shortcoming**. \n",
    "\n",
    "Let us move to test how different hyperparmeters impact the performance of the Bayesian Network. Particularly, we'll examime `n_bins` and `structure`, for both confounded and unconfouded datasets."
   ]
  },
  {
   "cell_type": "markdown",
   "metadata": {},
   "source": [
    "### Impact of hyperparameters and confounding\n",
    "\n",
    "To test different hyperparamters the code below performs a grid search where we try `n_bins` in `[2, 4, 8, 16, 32]`, `structure` in `[sm_true, sm_learned, sm_naive]` and `df` in `[df_obs, df_rnd]`. "
   ]
  },
  {
   "cell_type": "code",
   "execution_count": null,
   "metadata": {},
   "outputs": [],
   "source": [
    "import itertools\n",
    "\n",
    "result_list = []\n",
    "\n",
    "grid_bins = [2, 4, 8, 16, 32]\n",
    "grid_df = [('df_obs', df_obs), ('df_rnd', df_rnd)]\n",
    "grid_structure = [('true', sm_true), ('learned', sm_learned), ('naive', sm_naive)]\n",
    "\n",
    "for n_bins, df, structure in itertools.product(grid_bins, grid_df, grid_structure):\n",
    "    \n",
    "    result = run_full_bayes_net_test(df[1], structure[1], n_bins, verbose=0)\n",
    "    \n",
    "    result['n_bins'] = n_bins\n",
    "    result['dataset'] = df[0]\n",
    "    result['structure'] = structure[0]\n",
    "    \n",
    "    result_list.append(result)\n",
    "    print(result)"
   ]
  },
  {
   "cell_type": "markdown",
   "metadata": {},
   "source": [
    "Then, we plot the results below:"
   ]
  },
  {
   "cell_type": "code",
   "execution_count": null,
   "metadata": {},
   "outputs": [],
   "source": [
    "def plot_results(result_list):\n",
    "    \n",
    "    results_df = pd.DataFrame(result_list)\n",
    "    results_df['effect'] = np.log(results_df['effect'])\n",
    "    \n",
    "    results_rnd = results_df.query(\"\"\"dataset == 'df_rnd'\"\"\")\n",
    "    results_obs = results_df.query(\"\"\"dataset == 'df_obs'\"\"\")\n",
    "\n",
    "    plt.figure(figsize=(16, 10), dpi=150)\n",
    "\n",
    "    plt.subplot(2, 2, 1)\n",
    "    plt.axhline(-1.0, color='black', linestyle='dashed', label='true effect')\n",
    "    for sm, grp in results_rnd.groupby('structure'):\n",
    "        plt.plot(grp['n_bins'], grp['effect'], 'o--', label=sm)\n",
    "\n",
    "    plt.title('Effect recovered (uncounfounded dataset)')\n",
    "    plt.xlabel('Number of bins')\n",
    "    plt.ylabel('Effect')\n",
    "    plt.legend()\n",
    "\n",
    "    plt.subplot(2, 2, 2)\n",
    "    plt.axhline(-1.0, color='black', linestyle='dashed', label='true effect')\n",
    "    for sm, grp in results_obs.groupby('structure'):\n",
    "        plt.plot(grp['n_bins'], grp['effect'], 'o--', label=sm)\n",
    "\n",
    "    plt.title('Effect recovered (counfounded dataset)')\n",
    "    plt.xlabel('Number of bins')\n",
    "    plt.ylabel('Effect')\n",
    "    plt.legend()\n",
    "    \n",
    "    plt.subplot(2, 2, 3)\n",
    "    for sm, grp in results_rnd.groupby('structure'):\n",
    "        plt.plot(grp['n_bins'], grp['auc'], 'o--', label=sm)\n",
    "\n",
    "    plt.title('Area under the curve (uncounfounded dataset)')\n",
    "    plt.xlabel('Number of bins')\n",
    "    plt.ylabel('AUC')\n",
    "    plt.legend()\n",
    "\n",
    "    plt.subplot(2, 2, 4)\n",
    "    for sm, grp in results_obs.groupby('structure'):\n",
    "        plt.plot(grp['n_bins'], grp['auc'], 'o--', label=sm)\n",
    "\n",
    "    plt.title('Area under the curve (counfounded dataset)')\n",
    "    plt.xlabel('Number of bins')\n",
    "    plt.ylabel('AUC')\n",
    "    plt.legend()\n",
    "\n",
    "\n",
    "plot_results(result_list)"
   ]
  },
  {
   "cell_type": "markdown",
   "metadata": {},
   "source": [
    "The plots show a interesting pattern. The true effect is shown by the black dashed line at `y = -1.0`. In the uncounfounded case, our counterfactual estimation procedure got really close to the true effect using a \"modest\" number of bins (4 and 8). The best structure was surprisingly the naive structure, although not by a large margin. The learned structure and the true structure arrived at almost identical results, which is also puzzling. \n",
    "\n",
    "However, we see another major **shortcoming** of Bayesian Networks (at least in this setting): if the number of bins is too high or too low, we greatly underestimate the treatment effect. In a real-world setting, where we would not know the true effect, tuning this parameter would be challenging. Moreover, I would find very hard to trust the treatment effect estimate knowing of this sensibility to hyperparameters.\n",
    "\n",
    "In the confounded case we observe the same pattern as we did before, with our Bayesian Network approach underestimating the effect across the board, independently of structure or discretization choice.\n",
    "\n",
    "AUC results are the same independent of structure, which is puzzling as well (maybe there's a bug on my code?).\n",
    "\n",
    "Let us now summarize all that we've learned and list the main **features** and **shortcomings** of Bayesian Networks."
   ]
  },
  {
   "cell_type": "markdown",
   "metadata": {},
   "source": [
    "## Conclusion\n",
    "\n",
    "In this post, we took CausalNex for a spin to try Bayesian Networks out, a promising idea for causal inference. We used a synthetic causal inference dataset to allow us to compare the model results to ground truth in an objective way. From this exploration we could check the main **features** and **shortcomings** of the approach. I list them below.\n",
    "\n",
    "##### *Features* \n",
    "\n",
    "* **Building the DAG:** having a interface for a structural causal model incentivizes the practitioner to *think hard* about the problem and invites contribution from everyone (not just data scientists). We can also blend data with domain knowledge.\n",
    "\n",
    "* **Structure learning:** even if we did not recover the true structure exactly, the structure learning functionaly did a decent job and could be a valuable tool for exploring a new dataset.\n",
    "\n",
    "* **Inspecting conditional probabilities:** Bayesian Networks go one step further when showing conditional probabilities tables of the data. I found that `.cpds` provides an overview of the relationships between variables in a much more powerful way than correlation analysis.\n",
    "\n",
    "* **Do-calculus:** the do-calculus functionality is very easy to use and flexible. \n",
    "\n",
    "##### *Shortcomings* \n",
    "\n",
    "* **Discretization:** having the need of discretizing the data can also be a feature to make the dataset easier to reason about. However, as we've seen, the introduction of this arbitrary choice can have a great impact on counterfactual estimation.\n",
    "\n",
    "* **No confidence intervals, and high computational cost:** our implementation of bayesian networks did not output confidence intervals, which are very useful to diagnose the accuracy of the estimated effects. One could argue that this can be solved with bootstrap, but the high computational cost of the bayesian network can make this solution unfeasible.\n",
    "\n",
    "* **High hyperparameter sensivity:** small changes on hyperparameters greatly impact the treatment effect estimate from the net (specially the ones related to discretization).\n",
    "\n",
    "* **Poor performrance on confounded data:** the implementation showed poor results on confounded data. \n",
    "\n",
    "And that's it! I hope it was a good read. All feedbacks are highly appreciated!"
   ]
  },
  {
   "cell_type": "code",
   "execution_count": null,
   "metadata": {},
   "outputs": [],
   "source": []
  },
  {
   "cell_type": "code",
   "execution_count": null,
   "metadata": {},
   "outputs": [],
   "source": []
  }
 ],
 "metadata": {
  "kernelspec": {
   "display_name": "Python 3",
   "language": "python",
   "name": "python3"
  },
  "language_info": {
   "codemirror_mode": {
    "name": "ipython",
    "version": 3
   },
   "file_extension": ".py",
   "mimetype": "text/x-python",
   "name": "python",
   "nbconvert_exporter": "python",
   "pygments_lexer": "ipython3",
   "version": "3.8.3"
  },
  "toc": {
   "base_numbering": 1,
   "nav_menu": {},
   "number_sections": true,
   "sideBar": true,
   "skip_h1_title": false,
   "title_cell": "Table of Contents",
   "title_sidebar": "Contents",
   "toc_cell": false,
   "toc_position": {},
   "toc_section_display": true,
   "toc_window_display": false
  }
 },
 "nbformat": 4,
 "nbformat_minor": 4
}
